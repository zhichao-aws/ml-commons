{
 "cells": [
  {
   "cell_type": "code",
   "execution_count": 24,
   "id": "d1e2f6c9",
   "metadata": {},
   "outputs": [
    {
     "data": {
      "text/plain": [
       "'green open .plugins-ml-config DcezHRWQSbCAyTuJ6ZXB6Q 1 0 1 0 3.8kb 3.8kb\\n'"
      ]
     },
     "execution_count": 24,
     "metadata": {},
     "output_type": "execute_result"
    }
   ],
   "source": [
    "from opensearchpy import OpenSearch\n",
    "\n",
    "client = OpenSearch(hosts=[\"localhost:9200\"])\n",
    "client.cat.indices()"
   ]
  },
  {
   "cell_type": "code",
   "execution_count": 25,
   "id": "9627f0e7",
   "metadata": {},
   "outputs": [
    {
     "data": {
      "text/plain": [
       "{'_index': 'test',\n",
       " '_id': 'Awi-aI0B4okpdKYKkNea',\n",
       " '_version': 1,\n",
       " 'result': 'created',\n",
       " '_shards': {'total': 2, 'successful': 1, 'failed': 0},\n",
       " '_seq_no': 3,\n",
       " '_primary_term': 1}"
      ]
     },
     "execution_count": 25,
     "metadata": {},
     "output_type": "execute_result"
    }
   ],
   "source": [
    "client.indices.create(\"test\")\n",
    "client.index(index=\"test\",body={\"text\":\"doc1\",\"text2\":\"doc12\",\"embedding\":{\"hi\":1}})\n",
    "client.index(index=\"test\",body={\"text\":\"doc2\",\"text2\":\"doc12\",\"embedding\":{\"hello\":1}})\n",
    "client.index(index=\"test\",body={\"text\":\"doc1\",\"text2\":\"doc12\",\"embedding\":{\"hi\":1}})\n",
    "client.index(index=\"test\",body={\"text\":\"doc2\",\"text2\":\"doc12\",\"embedding\":{\"hello\":1}})"
   ]
  },
  {
   "cell_type": "code",
   "execution_count": 26,
   "id": "62ea03bd",
   "metadata": {},
   "outputs": [
    {
     "data": {
      "text/plain": [
       "{'acknowledged': True,\n",
       " 'persistent': {'plugins': {'ml_commons': {'only_run_on_ml_node': 'false',\n",
       "    'trusted_connector_endpoints_regex': ['^.*$']}}},\n",
       " 'transient': {}}"
      ]
     },
     "execution_count": 26,
     "metadata": {},
     "output_type": "execute_result"
    }
   ],
   "source": [
    "client.transport.perform_request(\"PUT\",\"/_cluster/settings\",body={\n",
    "  \"persistent\" : {\n",
    "    \"plugins.ml_commons.trusted_connector_endpoints_regex\":\n",
    "    [ \"^.*$\",\n",
    "    ],\n",
    "    \"plugins.ml_commons.only_run_on_ml_node\":False\n",
    "  }\n",
    "})"
   ]
  },
  {
   "cell_type": "code",
   "execution_count": 27,
   "id": "c03e0600",
   "metadata": {},
   "outputs": [
    {
     "data": {
      "text/plain": [
       "{'connector_id': 'BAi-aI0B4okpdKYKo9dI'}"
      ]
     },
     "execution_count": 27,
     "metadata": {},
     "output_type": "execute_result"
    }
   ],
   "source": [
    "client.transport.perform_request(\"POST\",\"/_plugins/_ml/connectors/_create\",body={\n",
    "  \"name\": \"test connector\",\n",
    "  \"version\": 1,\n",
    "  \"protocol\": \"http\",\n",
    "  \"parameters\": {\n",
    "  },\n",
    "  \"actions\": [\n",
    "    {\n",
    "      \"action_type\": \"predict\",\n",
    "      \"method\": \"POST\",\n",
    "      \"url\": \"http://127.0.0.1:9200/test/_search\",\n",
    "      \"request_body\": \"{\\\"query\\\":{\\\"match\\\":{\\\"text\\\":\\\"${parameters.query}\\\"}}}\"\n",
    "    }\n",
    "  ]\n",
    "})"
   ]
  },
  {
   "cell_type": "code",
   "execution_count": 28,
   "id": "d94b7267",
   "metadata": {},
   "outputs": [
    {
     "data": {
      "text/plain": [
       "{'task_id': 'Bgi-aI0B4okpdKYK1Nfh',\n",
       " 'status': 'CREATED',\n",
       " 'model_id': 'Bwi-aI0B4okpdKYK1dey'}"
      ]
     },
     "execution_count": 28,
     "metadata": {},
     "output_type": "execute_result"
    }
   ],
   "source": [
    "client.transport.perform_request(\"POST\",\"/_plugins/_ml/models/_register?deploy=true\",body={\n",
    "    \"name\": \"test model\",\n",
    "    \"function_name\": \"remote\",\n",
    "    \"version\": \"1.0.0\",\n",
    "    \"connector_id\": \"BAi-aI0B4okpdKYKo9dI\",\n",
    "    \"description\": \"test model\"\n",
    "})"
   ]
  },
  {
   "cell_type": "code",
   "execution_count": 29,
   "id": "95eba44c",
   "metadata": {},
   "outputs": [
    {
     "data": {
      "text/plain": [
       "{'inference_results': [{'output': [{'name': 'response',\n",
       "     'dataAsMap': {'took': 28.0,\n",
       "      'timed_out': False,\n",
       "      '_shards': {'total': 1.0,\n",
       "       'successful': 1.0,\n",
       "       'skipped': 0.0,\n",
       "       'failed': 0.0},\n",
       "      'hits': {'total': {'value': 2.0, 'relation': 'eq'},\n",
       "       'max_score': 0.6931471,\n",
       "       'hits': [{'_index': 'test',\n",
       "         '_id': 'AAi-aI0B4okpdKYKj9f6',\n",
       "         '_score': 0.6931471,\n",
       "         '_source': {'text': 'doc1',\n",
       "          'text2': 'doc12',\n",
       "          'embedding': {'hi': 1.0}}},\n",
       "        {'_index': 'test',\n",
       "         '_id': 'Agi-aI0B4okpdKYKkNeN',\n",
       "         '_score': 0.6931471,\n",
       "         '_source': {'text': 'doc1',\n",
       "          'text2': 'doc12',\n",
       "          'embedding': {'hi': 1.0}}}]}}}],\n",
       "   'status_code': 200}]}"
      ]
     },
     "execution_count": 29,
     "metadata": {},
     "output_type": "execute_result"
    }
   ],
   "source": [
    "client.transport.perform_request(\"POST\",f\"/_plugins/_ml/models/Bwi-aI0B4okpdKYK1dey/_predict\",body={\n",
    "    \"parameters\":{\n",
    "        \"query\":'doc1'\n",
    "    }\n",
    "})"
   ]
  },
  {
   "cell_type": "code",
   "execution_count": 30,
   "id": "674a20e9",
   "metadata": {},
   "outputs": [
    {
     "data": {
      "text/plain": [
       "{'agent_id': 'CQi_aI0B4okpdKYKDNed'}"
      ]
     },
     "execution_count": 30,
     "metadata": {},
     "output_type": "execute_result"
    }
   ],
   "source": [
    "client.transport.perform_request(\"POST\",\"/_plugins/_ml/agents/_register\",body={\n",
    "  \"name\": \"Test agent for embedding model\",\n",
    "  \"type\": \"flow\",\n",
    "  \"description\": \"this is a test agent\",\n",
    "  \"tools\": [\n",
    "    {\n",
    "      \"type\": \"MLModelTool\",\n",
    "      \"description\": \"A general tool to answer any question\",\n",
    "      \"parameters\": {\n",
    "        \"model_id\": \"Bwi-aI0B4okpdKYK1dey\",\n",
    "      }\n",
    "    }\n",
    "  ]\n",
    "})"
   ]
  },
  {
   "cell_type": "code",
   "execution_count": 31,
   "id": "3d8f61e7",
   "metadata": {},
   "outputs": [
    {
     "ename": "TransportError",
     "evalue": "TransportError(500, 'null_pointer_exception', 'Cannot invoke \"org.opensearch.ml.common.output.Output.toXContent(org.opensearch.core.xcontent.XContentBuilder, org.opensearch.core.xcontent.ToXContent$Params)\" because \"this.output\" is null')",
     "output_type": "error",
     "traceback": [
      "\u001b[0;31m---------------------------------------------------------------------------\u001b[0m",
      "\u001b[0;31mTransportError\u001b[0m                            Traceback (most recent call last)",
      "Cell \u001b[0;32mIn[31], line 1\u001b[0m\n\u001b[0;32m----> 1\u001b[0m \u001b[43mclient\u001b[49m\u001b[38;5;241;43m.\u001b[39;49m\u001b[43mtransport\u001b[49m\u001b[38;5;241;43m.\u001b[39;49m\u001b[43mperform_request\u001b[49m\u001b[43m(\u001b[49m\u001b[38;5;124;43m\"\u001b[39;49m\u001b[38;5;124;43mPOST\u001b[39;49m\u001b[38;5;124;43m\"\u001b[39;49m\u001b[43m,\u001b[49m\u001b[38;5;124;43m\"\u001b[39;49m\u001b[38;5;124;43m/_plugins/_ml/agents/CQi_aI0B4okpdKYKDNed/_execute\u001b[39;49m\u001b[38;5;124;43m\"\u001b[39;49m\u001b[43m,\u001b[49m\u001b[43mbody\u001b[49m\u001b[38;5;241;43m=\u001b[39;49m\u001b[43m{\u001b[49m\n\u001b[1;32m      2\u001b[0m \u001b[43m    \u001b[49m\u001b[38;5;124;43m\"\u001b[39;49m\u001b[38;5;124;43mparameters\u001b[39;49m\u001b[38;5;124;43m\"\u001b[39;49m\u001b[43m:\u001b[49m\u001b[43m \u001b[49m\u001b[43m{\u001b[49m\n\u001b[1;32m      3\u001b[0m \u001b[43m        \u001b[49m\u001b[38;5;124;43m\"\u001b[39;49m\u001b[38;5;124;43mquery\u001b[39;49m\u001b[38;5;124;43m\"\u001b[39;49m\u001b[43m:\u001b[49m\u001b[43m \u001b[49m\u001b[38;5;124;43m\"\u001b[39;49m\u001b[38;5;124;43mdoc1\u001b[39;49m\u001b[38;5;124;43m\"\u001b[39;49m\n\u001b[1;32m      4\u001b[0m \u001b[43m    \u001b[49m\u001b[43m}\u001b[49m\n\u001b[1;32m      5\u001b[0m \u001b[43m}\u001b[49m\u001b[43m)\u001b[49m\n",
      "File \u001b[0;32m~/anaconda3/lib/python3.10/site-packages/opensearchpy/transport.py:409\u001b[0m, in \u001b[0;36mTransport.perform_request\u001b[0;34m(self, method, url, headers, params, body)\u001b[0m\n\u001b[1;32m    407\u001b[0m             \u001b[38;5;28;01mraise\u001b[39;00m e\n\u001b[1;32m    408\u001b[0m     \u001b[38;5;28;01melse\u001b[39;00m:\n\u001b[0;32m--> 409\u001b[0m         \u001b[38;5;28;01mraise\u001b[39;00m e\n\u001b[1;32m    411\u001b[0m \u001b[38;5;28;01melse\u001b[39;00m:\n\u001b[1;32m    412\u001b[0m     \u001b[38;5;66;03m# connection didn't fail, confirm it's live status\u001b[39;00m\n\u001b[1;32m    413\u001b[0m     \u001b[38;5;28mself\u001b[39m\u001b[38;5;241m.\u001b[39mconnection_pool\u001b[38;5;241m.\u001b[39mmark_live(connection)\n",
      "File \u001b[0;32m~/anaconda3/lib/python3.10/site-packages/opensearchpy/transport.py:370\u001b[0m, in \u001b[0;36mTransport.perform_request\u001b[0;34m(self, method, url, headers, params, body)\u001b[0m\n\u001b[1;32m    367\u001b[0m connection \u001b[38;5;241m=\u001b[39m \u001b[38;5;28mself\u001b[39m\u001b[38;5;241m.\u001b[39mget_connection()\n\u001b[1;32m    369\u001b[0m \u001b[38;5;28;01mtry\u001b[39;00m:\n\u001b[0;32m--> 370\u001b[0m     status, headers_response, data \u001b[38;5;241m=\u001b[39m \u001b[43mconnection\u001b[49m\u001b[38;5;241;43m.\u001b[39;49m\u001b[43mperform_request\u001b[49m\u001b[43m(\u001b[49m\n\u001b[1;32m    371\u001b[0m \u001b[43m        \u001b[49m\u001b[43mmethod\u001b[49m\u001b[43m,\u001b[49m\n\u001b[1;32m    372\u001b[0m \u001b[43m        \u001b[49m\u001b[43murl\u001b[49m\u001b[43m,\u001b[49m\n\u001b[1;32m    373\u001b[0m \u001b[43m        \u001b[49m\u001b[43mparams\u001b[49m\u001b[43m,\u001b[49m\n\u001b[1;32m    374\u001b[0m \u001b[43m        \u001b[49m\u001b[43mbody\u001b[49m\u001b[43m,\u001b[49m\n\u001b[1;32m    375\u001b[0m \u001b[43m        \u001b[49m\u001b[43mheaders\u001b[49m\u001b[38;5;241;43m=\u001b[39;49m\u001b[43mheaders\u001b[49m\u001b[43m,\u001b[49m\n\u001b[1;32m    376\u001b[0m \u001b[43m        \u001b[49m\u001b[43mignore\u001b[49m\u001b[38;5;241;43m=\u001b[39;49m\u001b[43mignore\u001b[49m\u001b[43m,\u001b[49m\n\u001b[1;32m    377\u001b[0m \u001b[43m        \u001b[49m\u001b[43mtimeout\u001b[49m\u001b[38;5;241;43m=\u001b[39;49m\u001b[43mtimeout\u001b[49m\u001b[43m,\u001b[49m\n\u001b[1;32m    378\u001b[0m \u001b[43m    \u001b[49m\u001b[43m)\u001b[49m\n\u001b[1;32m    380\u001b[0m     \u001b[38;5;66;03m# Lowercase all the header names for consistency in accessing them.\u001b[39;00m\n\u001b[1;32m    381\u001b[0m     headers_response \u001b[38;5;241m=\u001b[39m {\n\u001b[1;32m    382\u001b[0m         header\u001b[38;5;241m.\u001b[39mlower(): value \u001b[38;5;28;01mfor\u001b[39;00m header, value \u001b[38;5;129;01min\u001b[39;00m headers_response\u001b[38;5;241m.\u001b[39mitems()\n\u001b[1;32m    383\u001b[0m     }\n",
      "File \u001b[0;32m~/anaconda3/lib/python3.10/site-packages/opensearchpy/connection/http_urllib3.py:266\u001b[0m, in \u001b[0;36mUrllib3HttpConnection.perform_request\u001b[0;34m(self, method, url, params, body, timeout, ignore, headers)\u001b[0m\n\u001b[1;32m    262\u001b[0m \u001b[38;5;28;01mif\u001b[39;00m \u001b[38;5;129;01mnot\u001b[39;00m (\u001b[38;5;241m200\u001b[39m \u001b[38;5;241m<\u001b[39m\u001b[38;5;241m=\u001b[39m response\u001b[38;5;241m.\u001b[39mstatus \u001b[38;5;241m<\u001b[39m \u001b[38;5;241m300\u001b[39m) \u001b[38;5;129;01mand\u001b[39;00m response\u001b[38;5;241m.\u001b[39mstatus \u001b[38;5;129;01mnot\u001b[39;00m \u001b[38;5;129;01min\u001b[39;00m ignore:\n\u001b[1;32m    263\u001b[0m     \u001b[38;5;28mself\u001b[39m\u001b[38;5;241m.\u001b[39mlog_request_fail(\n\u001b[1;32m    264\u001b[0m         method, full_url, url, orig_body, duration, response\u001b[38;5;241m.\u001b[39mstatus, raw_data\n\u001b[1;32m    265\u001b[0m     )\n\u001b[0;32m--> 266\u001b[0m     \u001b[38;5;28;43mself\u001b[39;49m\u001b[38;5;241;43m.\u001b[39;49m\u001b[43m_raise_error\u001b[49m\u001b[43m(\u001b[49m\n\u001b[1;32m    267\u001b[0m \u001b[43m        \u001b[49m\u001b[43mresponse\u001b[49m\u001b[38;5;241;43m.\u001b[39;49m\u001b[43mstatus\u001b[49m\u001b[43m,\u001b[49m\n\u001b[1;32m    268\u001b[0m \u001b[43m        \u001b[49m\u001b[43mraw_data\u001b[49m\u001b[43m,\u001b[49m\n\u001b[1;32m    269\u001b[0m \u001b[43m        \u001b[49m\u001b[38;5;28;43mself\u001b[39;49m\u001b[38;5;241;43m.\u001b[39;49m\u001b[43mget_response_headers\u001b[49m\u001b[43m(\u001b[49m\u001b[43mresponse\u001b[49m\u001b[43m)\u001b[49m\u001b[38;5;241;43m.\u001b[39;49m\u001b[43mget\u001b[49m\u001b[43m(\u001b[49m\u001b[38;5;124;43m\"\u001b[39;49m\u001b[38;5;124;43mcontent-type\u001b[39;49m\u001b[38;5;124;43m\"\u001b[39;49m\u001b[43m)\u001b[49m\u001b[43m,\u001b[49m\n\u001b[1;32m    270\u001b[0m \u001b[43m    \u001b[49m\u001b[43m)\u001b[49m\n\u001b[1;32m    272\u001b[0m \u001b[38;5;28mself\u001b[39m\u001b[38;5;241m.\u001b[39mlog_request_success(\n\u001b[1;32m    273\u001b[0m     method, full_url, url, orig_body, response\u001b[38;5;241m.\u001b[39mstatus, raw_data, duration\n\u001b[1;32m    274\u001b[0m )\n\u001b[1;32m    276\u001b[0m \u001b[38;5;28;01mreturn\u001b[39;00m response\u001b[38;5;241m.\u001b[39mstatus, response\u001b[38;5;241m.\u001b[39mheaders, raw_data\n",
      "File \u001b[0;32m~/anaconda3/lib/python3.10/site-packages/opensearchpy/connection/base.py:301\u001b[0m, in \u001b[0;36mConnection._raise_error\u001b[0;34m(self, status_code, raw_data, content_type)\u001b[0m\n\u001b[1;32m    298\u001b[0m \u001b[38;5;28;01mexcept\u001b[39;00m (\u001b[38;5;167;01mValueError\u001b[39;00m, \u001b[38;5;167;01mTypeError\u001b[39;00m) \u001b[38;5;28;01mas\u001b[39;00m err:\n\u001b[1;32m    299\u001b[0m     logger\u001b[38;5;241m.\u001b[39mwarning(\u001b[38;5;124m\"\u001b[39m\u001b[38;5;124mUndecodable raw error response from server: \u001b[39m\u001b[38;5;132;01m%s\u001b[39;00m\u001b[38;5;124m\"\u001b[39m, err)\n\u001b[0;32m--> 301\u001b[0m \u001b[38;5;28;01mraise\u001b[39;00m HTTP_EXCEPTIONS\u001b[38;5;241m.\u001b[39mget(status_code, TransportError)(\n\u001b[1;32m    302\u001b[0m     status_code, error_message, additional_info\n\u001b[1;32m    303\u001b[0m )\n",
      "\u001b[0;31mTransportError\u001b[0m: TransportError(500, 'null_pointer_exception', 'Cannot invoke \"org.opensearch.ml.common.output.Output.toXContent(org.opensearch.core.xcontent.XContentBuilder, org.opensearch.core.xcontent.ToXContent$Params)\" because \"this.output\" is null')"
     ]
    }
   ],
   "source": [
    "client.transport.perform_request(\"POST\",\"/_plugins/_ml/agents/CQi_aI0B4okpdKYKDNed/_execute\",body={\n",
    "    \"parameters\": {\n",
    "        \"query\": \"doc1\"\n",
    "    }\n",
    "})"
   ]
  },
  {
   "cell_type": "code",
   "execution_count": null,
   "id": "0eca2e26",
   "metadata": {},
   "outputs": [],
   "source": []
  }
 ],
 "metadata": {
  "kernelspec": {
   "display_name": "Python 3 (ipykernel)",
   "language": "python",
   "name": "python3"
  },
  "language_info": {
   "codemirror_mode": {
    "name": "ipython",
    "version": 3
   },
   "file_extension": ".py",
   "mimetype": "text/x-python",
   "name": "python",
   "nbconvert_exporter": "python",
   "pygments_lexer": "ipython3",
   "version": "3.10.9"
  }
 },
 "nbformat": 4,
 "nbformat_minor": 5
}
